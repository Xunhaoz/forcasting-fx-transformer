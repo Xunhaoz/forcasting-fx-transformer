{
 "cells": [
  {
   "cell_type": "code",
   "execution_count": 1,
   "id": "initial_id",
   "metadata": {
    "collapsed": true,
    "ExecuteTime": {
     "end_time": "2024-04-14T10:14:57.719522900Z",
     "start_time": "2024-04-14T10:14:56.496498800Z"
    }
   },
   "outputs": [],
   "source": [
    "from datasets import DatasetDict, Dataset"
   ]
  },
  {
   "cell_type": "code",
   "execution_count": 2,
   "outputs": [],
   "source": [],
   "metadata": {
    "collapsed": false,
    "ExecuteTime": {
     "end_time": "2024-04-14T10:14:58.967225400Z",
     "start_time": "2024-04-14T10:14:58.718020200Z"
    }
   },
   "id": "c5a85ff7df7f5650"
  },
  {
   "cell_type": "code",
   "execution_count": 3,
   "outputs": [
    {
     "data": {
      "text/plain": "DatasetDict({\n    train: Dataset({\n        features: ['start', 'target', 'feat_static_cat', 'feat_dynamic_real', 'item_id'],\n        num_rows: 17\n    })\n    validation: Dataset({\n        features: ['start', 'target', 'feat_static_cat', 'feat_dynamic_real', 'item_id'],\n        num_rows: 17\n    })\n    test: Dataset({\n        features: ['start', 'target', 'feat_static_cat', 'feat_dynamic_real', 'item_id'],\n        num_rows: 17\n    })\n})"
     },
     "execution_count": 3,
     "metadata": {},
     "output_type": "execute_result"
    }
   ],
   "source": [],
   "metadata": {
    "collapsed": false,
    "ExecuteTime": {
     "end_time": "2024-04-14T10:14:59.682904500Z",
     "start_time": "2024-04-14T10:14:59.653342800Z"
    }
   },
   "id": "131fb98cfc25b2a1"
  },
  {
   "cell_type": "code",
   "execution_count": 4,
   "outputs": [
    {
     "data": {
      "text/plain": "dict_keys(['start', 'target', 'feat_static_cat', 'feat_dynamic_real', 'item_id'])"
     },
     "execution_count": 4,
     "metadata": {},
     "output_type": "execute_result"
    }
   ],
   "source": [],
   "metadata": {
    "collapsed": false,
    "ExecuteTime": {
     "end_time": "2024-04-14T10:15:00.661370900Z",
     "start_time": "2024-04-14T10:15:00.607807600Z"
    }
   },
   "id": "3a3cb153f8466708"
  },
  {
   "cell_type": "code",
   "execution_count": 5,
   "outputs": [
    {
     "name": "stdout",
     "output_type": "stream",
     "text": [
      "2004-07-26 00:00:00\n",
      "5080\n"
     ]
    }
   ],
   "source": [],
   "metadata": {
    "collapsed": false,
    "ExecuteTime": {
     "end_time": "2024-04-14T10:15:02.183382500Z",
     "start_time": "2024-04-14T10:15:02.165728100Z"
    }
   },
   "id": "61fff91d23073590"
  }
 ],
 "metadata": {
  "kernelspec": {
   "display_name": "Python 3",
   "language": "python",
   "name": "python3"
  },
  "language_info": {
   "codemirror_mode": {
    "name": "ipython",
    "version": 2
   },
   "file_extension": ".py",
   "mimetype": "text/x-python",
   "name": "python",
   "nbconvert_exporter": "python",
   "pygments_lexer": "ipython2",
   "version": "2.7.6"
  }
 },
 "nbformat": 4,
 "nbformat_minor": 5
}
